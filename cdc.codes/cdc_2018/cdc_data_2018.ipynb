{
 "cells": [
  {
   "cell_type": "code",
   "execution_count": 6,
   "id": "fa4606a4",
   "metadata": {},
   "outputs": [],
   "source": [
    "import pandas as pd\n",
    "from pathlib import Path\n",
    "import numpy as np\n",
    "import os "
   ]
  },
  {
   "cell_type": "code",
   "execution_count": 9,
   "id": "4335d727",
   "metadata": {},
   "outputs": [
    {
     "data": {
      "text/html": [
       "<div>\n",
       "<style scoped>\n",
       "    .dataframe tbody tr th:only-of-type {\n",
       "        vertical-align: middle;\n",
       "    }\n",
       "\n",
       "    .dataframe tbody tr th {\n",
       "        vertical-align: top;\n",
       "    }\n",
       "\n",
       "    .dataframe thead th {\n",
       "        text-align: right;\n",
       "    }\n",
       "</style>\n",
       "<table border=\"1\" class=\"dataframe\">\n",
       "  <thead>\n",
       "    <tr style=\"text-align: right;\">\n",
       "      <th></th>\n",
       "      <th>Code</th>\n",
       "      <th>Description</th>\n",
       "    </tr>\n",
       "  </thead>\n",
       "  <tbody>\n",
       "    <tr>\n",
       "      <th>0</th>\n",
       "      <td>RECTYPE</td>\n",
       "      <td>\"File type identifier\"</td>\n",
       "    </tr>\n",
       "    <tr>\n",
       "      <th>1</th>\n",
       "      <td>SRVY_YR</td>\n",
       "      <td>\"Year of National Health Interview Survey\"</td>\n",
       "    </tr>\n",
       "    <tr>\n",
       "      <th>2</th>\n",
       "      <td>HHX</td>\n",
       "      <td>\"Household Number\"</td>\n",
       "    </tr>\n",
       "    <tr>\n",
       "      <th>3</th>\n",
       "      <td>INTV_QRT</td>\n",
       "      <td>\"Interview Quarter\"</td>\n",
       "    </tr>\n",
       "    <tr>\n",
       "      <th>4</th>\n",
       "      <td>INTV_MON</td>\n",
       "      <td>\"Assignment/Interview Month\"</td>\n",
       "    </tr>\n",
       "    <tr>\n",
       "      <th>...</th>\n",
       "      <td>...</td>\n",
       "      <td>...</td>\n",
       "    </tr>\n",
       "    <tr>\n",
       "      <th>737</th>\n",
       "      <td>AWEBOFNO</td>\n",
       "      <td>\"Frequency internet use: # of units\"</td>\n",
       "    </tr>\n",
       "    <tr>\n",
       "      <th>738</th>\n",
       "      <td>AWEBOFTP</td>\n",
       "      <td>\"Frequency internet use: Time units\"</td>\n",
       "    </tr>\n",
       "    <tr>\n",
       "      <th>739</th>\n",
       "      <td>AWEBEML</td>\n",
       "      <td>\"Email use\"</td>\n",
       "    </tr>\n",
       "    <tr>\n",
       "      <th>740</th>\n",
       "      <td>AWEBMNO</td>\n",
       "      <td>\"Frequency email use: # of units\"</td>\n",
       "    </tr>\n",
       "    <tr>\n",
       "      <th>741</th>\n",
       "      <td>AWEBMTP</td>\n",
       "      <td>\"Frequency email use: Time units\"</td>\n",
       "    </tr>\n",
       "  </tbody>\n",
       "</table>\n",
       "<p>742 rows × 2 columns</p>\n",
       "</div>"
      ],
      "text/plain": [
       "         Code                                 Description\n",
       "0     RECTYPE                      \"File type identifier\"\n",
       "1     SRVY_YR  \"Year of National Health Interview Survey\"\n",
       "2         HHX                          \"Household Number\"\n",
       "3    INTV_QRT                         \"Interview Quarter\"\n",
       "4    INTV_MON                \"Assignment/Interview Month\"\n",
       "..        ...                                         ...\n",
       "737  AWEBOFNO        \"Frequency internet use: # of units\"\n",
       "738  AWEBOFTP        \"Frequency internet use: Time units\"\n",
       "739   AWEBEML                                 \"Email use\"\n",
       "740   AWEBMNO           \"Frequency email use: # of units\"\n",
       "741   AWEBMTP           \"Frequency email use: Time units\"\n",
       "\n",
       "[742 rows x 2 columns]"
      ]
     },
     "execution_count": 9,
     "metadata": {},
     "output_type": "execute_result"
    }
   ],
   "source": [
    "cdc_2018df = pd.read_csv('adult_sample_code_2018.csv')\n",
    "cdc_2018df"
   ]
  },
  {
   "cell_type": "code",
   "execution_count": null,
   "id": "4d7357b8",
   "metadata": {},
   "outputs": [],
   "source": []
  },
  {
   "cell_type": "code",
   "execution_count": null,
   "id": "e8b361bf",
   "metadata": {},
   "outputs": [],
   "source": []
  }
 ],
 "metadata": {
  "kernelspec": {
   "display_name": "PythonData",
   "language": "python",
   "name": "pythondata"
  },
  "language_info": {
   "codemirror_mode": {
    "name": "ipython",
    "version": 3
   },
   "file_extension": ".py",
   "mimetype": "text/x-python",
   "name": "python",
   "nbconvert_exporter": "python",
   "pygments_lexer": "ipython3",
   "version": "3.10.9"
  }
 },
 "nbformat": 4,
 "nbformat_minor": 5
}
