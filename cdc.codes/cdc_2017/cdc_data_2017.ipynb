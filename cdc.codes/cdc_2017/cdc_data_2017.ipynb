{
 "cells": [
  {
   "cell_type": "code",
   "execution_count": 1,
   "id": "7310d60b",
   "metadata": {},
   "outputs": [],
   "source": [
    "import pandas as pd\n",
    "from pathlib import Path\n",
    "import numpy as np\n",
    "import os "
   ]
  },
  {
   "cell_type": "code",
   "execution_count": 2,
   "id": "127a1994",
   "metadata": {},
   "outputs": [
    {
     "data": {
      "text/html": [
       "<div>\n",
       "<style scoped>\n",
       "    .dataframe tbody tr th:only-of-type {\n",
       "        vertical-align: middle;\n",
       "    }\n",
       "\n",
       "    .dataframe tbody tr th {\n",
       "        vertical-align: top;\n",
       "    }\n",
       "\n",
       "    .dataframe thead th {\n",
       "        text-align: right;\n",
       "    }\n",
       "</style>\n",
       "<table border=\"1\" class=\"dataframe\">\n",
       "  <thead>\n",
       "    <tr style=\"text-align: right;\">\n",
       "      <th></th>\n",
       "      <th>2017 Code</th>\n",
       "      <th>Description</th>\n",
       "    </tr>\n",
       "  </thead>\n",
       "  <tbody>\n",
       "    <tr>\n",
       "      <th>0</th>\n",
       "      <td>REGION</td>\n",
       "      <td>Geographic region (SW, NE, etc.)</td>\n",
       "    </tr>\n",
       "    <tr>\n",
       "      <th>1</th>\n",
       "      <td>SEX</td>\n",
       "      <td>sex</td>\n",
       "    </tr>\n",
       "    <tr>\n",
       "      <th>2</th>\n",
       "      <td>HISPAN_I</td>\n",
       "      <td>Hispanic (country of origin / background)</td>\n",
       "    </tr>\n",
       "    <tr>\n",
       "      <th>3</th>\n",
       "      <td>RACERPI2</td>\n",
       "      <td>Race (excl., Latino)</td>\n",
       "    </tr>\n",
       "    <tr>\n",
       "      <th>4</th>\n",
       "      <td>R_MARITL</td>\n",
       "      <td>marital status</td>\n",
       "    </tr>\n",
       "    <tr>\n",
       "      <th>...</th>\n",
       "      <td>...</td>\n",
       "      <td>...</td>\n",
       "    </tr>\n",
       "    <tr>\n",
       "      <th>59</th>\n",
       "      <td>ASISLPFL</td>\n",
       "      <td># times having difficulty falling asleep in pa...</td>\n",
       "    </tr>\n",
       "    <tr>\n",
       "      <th>60</th>\n",
       "      <td>MBO_MAN1</td>\n",
       "      <td>used mantra meditation, past 12m</td>\n",
       "    </tr>\n",
       "    <tr>\n",
       "      <th>61</th>\n",
       "      <td>MBO_MND1</td>\n",
       "      <td>used mindfulness meditation, past 12m</td>\n",
       "    </tr>\n",
       "    <tr>\n",
       "      <th>62</th>\n",
       "      <td>MBO_SPR1</td>\n",
       "      <td>used spiritual meditation, past 12m</td>\n",
       "    </tr>\n",
       "    <tr>\n",
       "      <th>63</th>\n",
       "      <td>AWEBUSE</td>\n",
       "      <td>internet use</td>\n",
       "    </tr>\n",
       "  </tbody>\n",
       "</table>\n",
       "<p>64 rows × 2 columns</p>\n",
       "</div>"
      ],
      "text/plain": [
       "   2017 Code                                        Description\n",
       "0     REGION                   Geographic region (SW, NE, etc.)\n",
       "1        SEX                                                sex\n",
       "2   HISPAN_I          Hispanic (country of origin / background)\n",
       "3   RACERPI2                               Race (excl., Latino)\n",
       "4   R_MARITL                                     marital status\n",
       "..       ...                                                ...\n",
       "59  ASISLPFL  # times having difficulty falling asleep in pa...\n",
       "60  MBO_MAN1                   used mantra meditation, past 12m\n",
       "61  MBO_MND1              used mindfulness meditation, past 12m\n",
       "62  MBO_SPR1                used spiritual meditation, past 12m\n",
       "63   AWEBUSE                                       internet use\n",
       "\n",
       "[64 rows x 2 columns]"
      ]
     },
     "execution_count": 2,
     "metadata": {},
     "output_type": "execute_result"
    }
   ],
   "source": [
    "cdc_2017df = pd.read_csv('cdc_code_2017.csv')\n",
    "cdc_2017df"
   ]
  },
  {
   "cell_type": "code",
   "execution_count": null,
   "id": "6e9c0585",
   "metadata": {},
   "outputs": [],
   "source": []
  }
 ],
 "metadata": {
  "kernelspec": {
   "display_name": "PythonData",
   "language": "python",
   "name": "pythondata"
  },
  "language_info": {
   "codemirror_mode": {
    "name": "ipython",
    "version": 3
   },
   "file_extension": ".py",
   "mimetype": "text/x-python",
   "name": "python",
   "nbconvert_exporter": "python",
   "pygments_lexer": "ipython3",
   "version": "3.10.9"
  }
 },
 "nbformat": 4,
 "nbformat_minor": 5
}
